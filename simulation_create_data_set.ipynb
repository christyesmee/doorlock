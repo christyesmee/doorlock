{
  "nbformat": 4,
  "nbformat_minor": 0,
  "metadata": {
    "colab": {
      "provenance": [],
      "authorship_tag": "ABX9TyN8/eCGYjoChVZgQ2qXMrZ/",
      "include_colab_link": true
    },
    "kernelspec": {
      "name": "python3",
      "display_name": "Python 3"
    },
    "language_info": {
      "name": "python"
    }
  },
  "cells": [
    {
      "cell_type": "markdown",
      "metadata": {
        "id": "view-in-github",
        "colab_type": "text"
      },
      "source": [
        "<a href=\"https://colab.research.google.com/github/christyesmee/doorlock/blob/main/simulation_create_data_set.ipynb\" target=\"_parent\"><img src=\"https://colab.research.google.com/assets/colab-badge.svg\" alt=\"Open In Colab\"/></a>"
      ]
    },
    {
      "cell_type": "code",
      "source": [
        "from google.colab import drive\n",
        "drive.mount('/content/drive')\n"
      ],
      "metadata": {
        "colab": {
          "base_uri": "https://localhost:8080/"
        },
        "id": "LmXG51BQ7PQI",
        "outputId": "fdc0cd4e-22aa-466d-ebc2-953f8963775a"
      },
      "execution_count": 2,
      "outputs": [
        {
          "output_type": "stream",
          "name": "stdout",
          "text": [
            "Mounted at /content/drive\n"
          ]
        }
      ]
    },
    {
      "cell_type": "markdown",
      "source": [
        "#Generating the dataset"
      ],
      "metadata": {
        "id": "dZQRPu7xhheF"
      }
    },
    {
      "cell_type": "code",
      "source": [
        "import csv\n",
        "import random\n",
        "import numpy as np\n",
        "import itertools\n",
        "import pandas as pd\n",
        "\n",
        "\n",
        "# Define the layout of the keypad (x, y coordinates for each key)\n",
        "keypad_layout = {\n",
        "    '1': (0, 0), '2': (1, 0), '3': (2, 0),\n",
        "    '4': (0, 1), '5': (1, 1), '6': (2, 1),\n",
        "    '7': (0, 2), '8': (1, 2), '9': (2, 2),\n",
        "    '0': (1, 3)\n",
        "}\n",
        "\n",
        "def calculate_realistic_distance(key1, key2, keypad_layout, key_spacing_cm, speed_cm_per_sec, min_press_time_sec):\n",
        "    \"\"\"\n",
        "    Calculate the realistic time interval between two keys based on their distance\n",
        "    and the assumed speed of key presses.\n",
        "    \"\"\"\n",
        "    if key1 == key2:\n",
        "      return min_press_time_sec\n",
        "    else:\n",
        "      pos1 = keypad_layout[key1]\n",
        "      pos2 = keypad_layout[key2]\n",
        "      distance_cm = np.sqrt((pos1[0] - pos2[0])**2 + (pos1[1] - pos2[1])**2) * key_spacing_cm\n",
        "      time_sec = distance_cm / speed_cm_per_sec\n",
        "      return time_sec\n",
        "\n",
        "def generate_realistic_intervals(num_samples, keypad_layout, key_spacing_cm, speed_cm_per_sec):\n",
        "    \"\"\"\n",
        "    Generate realistic intervals based on the physical layout of the keypad and\n",
        "    the assumed speed of key presses.\n",
        "    \"\"\"\n",
        "    intervals = []\n",
        "    all_keys = list(keypad_layout.keys())\n",
        "\n",
        "    for _ in range(num_samples):\n",
        "        # Randomly select 4 keys to simulate a password\n",
        "        password_keys = random.sample(all_keys, 4)\n",
        "\n",
        "        # Calculate realistic time intervals between key presses\n",
        "        time_intervals = [\n",
        "            calculate_realistic_distance(password_keys[i], password_keys[i+1], keypad_layout, key_spacing_cm, speed_cm_per_sec, min_press_time_sec)\n",
        "            for i in range(3)\n",
        "        ]\n",
        "\n",
        "        intervals.append(time_intervals)\n",
        "\n",
        "    return intervals\n",
        "\n",
        "# Key spacing in cm and assumed speed in cm/sec\n",
        "key_spacing_cm = 1.5  # Assuming each key is 1.5 cm apart\n",
        "speed_cm_per_sec = 5   # Assuming a speed of 5 cm/secc\n",
        "min_press_time_sec = 0.2  # Assuming a minimum time of 0.2 sec for a key press\n",
        "\n",
        "\n",
        "# Enter the desired amount of realistic intervals that should be generated\n",
        "amount_intervals = int(input(\"Enter number of different interval combinations \"))\n",
        "\n",
        "# Generate realistic intervals\n",
        "realistic_intervals = generate_realistic_intervals(amount_intervals, keypad_layout, key_spacing_cm, speed_cm_per_sec)\n",
        "\n",
        "# Save the intervals to a CSV file\n",
        "csv_filename = '/content/drive/My Drive/Internet of Things Security/dataset1.csv'\n",
        "with open(csv_filename, mode='w', newline='') as file:\n",
        "    writer = csv.writer(file)\n",
        "    writer.writerow(['Interval 1 (sec)', 'Interval 2 (sec)', 'Interval 3 (sec)'])  # Header\n",
        "    for interval_set in realistic_intervals:\n",
        "        writer.writerow(interval_set)\n",
        "\n",
        "\n",
        "# Path to the CSV file in Google Drive\n",
        "csv_file_path = '/content/drive/My Drive/Internet of Things Security/dataset1.csv'\n",
        "\n",
        "# Reading the CSV file\n",
        "data = pd.read_csv(csv_file_path)\n",
        "print(data.head())\n"
      ],
      "metadata": {
        "id": "g74xF1cVP5UW",
        "colab": {
          "base_uri": "https://localhost:8080/"
        },
        "outputId": "f059bbde-d75f-4cb9-9fd5-8a47a6f6d859"
      },
      "execution_count": 13,
      "outputs": [
        {
          "output_type": "stream",
          "name": "stdout",
          "text": [
            "Enter number of different interval combinations 3\n",
            "   Interval 1 (sec)  Interval 2 (sec)  Interval 3 (sec)\n",
            "0          0.670820          0.424264          0.424264\n",
            "1          0.424264          0.300000          0.300000\n",
            "2          0.600000          0.670820          0.600000\n"
          ]
        }
      ]
    },
    {
      "cell_type": "markdown",
      "source": [
        "#Checking all possible outcomes\n",
        "\n",
        "This cell will output all the possible key pairs for the intervals. It will also show how long each interval takes in seconds."
      ],
      "metadata": {
        "id": "xXyFolX3hmGp"
      }
    },
    {
      "cell_type": "code",
      "source": [
        "# Iterate over all pairs of keys and group them by their interval\n",
        "key_pairs_by_interval = {}\n",
        "for key1, key2 in itertools.product(keypad_layout.keys(), repeat=2):\n",
        "    interval = calculate_realistic_distance(key1, key2, keypad_layout, key_spacing_cm, speed_cm_per_sec, min_press_time_sec)\n",
        "    interval = round(interval, 4)  # Round to 4 decimal places for grouping\n",
        "\n",
        "    if interval not in key_pairs_by_interval:\n",
        "        key_pairs_by_interval[interval] = []\n",
        "    key_pairs_by_interval[interval].append(f\"{key1}-{key2}\")\n",
        "\n",
        "# Display the results\n",
        "for interval in sorted(key_pairs_by_interval.keys()):\n",
        "    print(f\"Interval: {interval}, All possible key pairs: {', '.join(key_pairs_by_interval[interval])}\")\n",
        "\n",
        "# Optional: Write these results to a new CSV file if needed\n"
      ],
      "metadata": {
        "colab": {
          "base_uri": "https://localhost:8080/"
        },
        "id": "2e5bm9pvei-s",
        "outputId": "3131d0f1-399f-4fff-a8d9-579ff0891b49"
      },
      "execution_count": 4,
      "outputs": [
        {
          "output_type": "stream",
          "name": "stdout",
          "text": [
            "Interval: 0.2, All possible key pairs: 1-1, 2-2, 3-3, 4-4, 5-5, 6-6, 7-7, 8-8, 9-9, 0-0\n",
            "Interval: 0.3, All possible key pairs: 1-2, 1-4, 2-1, 2-3, 2-5, 3-2, 3-6, 4-1, 4-5, 4-7, 5-2, 5-4, 5-6, 5-8, 6-3, 6-5, 6-9, 7-4, 7-8, 8-5, 8-7, 8-9, 8-0, 9-6, 9-8, 0-8\n",
            "Interval: 0.4243, All possible key pairs: 1-5, 2-4, 2-6, 3-5, 4-2, 4-8, 5-1, 5-3, 5-7, 5-9, 6-2, 6-8, 7-5, 7-0, 8-4, 8-6, 9-5, 9-0, 0-7, 0-9\n",
            "Interval: 0.6, All possible key pairs: 1-3, 1-7, 2-8, 3-1, 3-9, 4-6, 5-0, 6-4, 7-1, 7-9, 8-2, 9-3, 9-7, 0-5\n",
            "Interval: 0.6708, All possible key pairs: 1-6, 1-8, 2-7, 2-9, 3-4, 3-8, 4-3, 4-9, 4-0, 6-1, 6-7, 6-0, 7-2, 7-6, 8-1, 8-3, 9-2, 9-4, 0-4, 0-6\n",
            "Interval: 0.8485, All possible key pairs: 1-9, 3-7, 7-3, 9-1\n",
            "Interval: 0.9, All possible key pairs: 2-0, 0-2\n",
            "Interval: 0.9487, All possible key pairs: 1-0, 3-0, 0-1, 0-3\n"
          ]
        }
      ]
    },
    {
      "cell_type": "code",
      "source": [
        "import matplotlib.pyplot as plt\n",
        "import pandas as pd\n",
        "\n",
        "# Assuming 'key_pairs_by_interval' is already defined as in your code\n",
        "\n",
        "# Convert the data into a list of tuples for easier handling\n",
        "data = [(interval, ', '.join(pairs)) for interval, pairs in sorted(key_pairs_by_interval.items())]\n",
        "\n",
        "# Create a DataFrame for better control over table generation\n",
        "df = pd.DataFrame(data, columns=['Interval', 'Key Pairs'])\n",
        "\n",
        "# Plotting without the axes for a clean table look\n",
        "fig, ax = plt.subplots(figsize=(10, len(df) * 0.5))  # Adjust the size as needed\n",
        "ax.axis('off')\n",
        "ax.axis('tight')\n",
        "\n",
        "# Create the table and customize\n",
        "table = ax.table(cellText=df.values, colLabels=df.columns, loc='center', cellLoc='center')\n",
        "table.auto_set_font_size(False)\n",
        "table.set_fontsize(10)  # Adjust font size as needed\n",
        "table.auto_set_column_width(col=list(range(len(df.columns))))  # Adjust column widths\n",
        "\n",
        "plt.title('Key Pairs by Interval', fontsize=15, weight='bold')\n",
        "\n",
        "# Save the table as an image\n",
        "plt.savefig('/content/drive/My Drive/Internet of Things Security/key_pairs_table.png', bbox_inches='tight', dpi=300)  # High dpi for better quality\n",
        "\n",
        "plt.show()\n"
      ],
      "metadata": {
        "colab": {
          "base_uri": "https://localhost:8080/",
          "height": 369
        },
        "id": "D45k4bT3QrYI",
        "outputId": "b716a460-e9e1-44a0-e920-cc3ff738d893"
      },
      "execution_count": 6,
      "outputs": [
        {
          "output_type": "display_data",
          "data": {
            "text/plain": [
              "<Figure size 1000x400 with 1 Axes>"
            ],
            "image/png": "[encoded data removed]"
          },
          "metadata": {}
        }
      ]
    },
    {
      "cell_type": "markdown",
      "source": [
        "#Importing the dataset"
      ],
      "metadata": {
        "id": "jfySd4RNh9UG"
      }
    },
    {
      "cell_type": "code",
      "source": [
        "import pandas as pd\n",
        "\n",
        "# Path to the CSV file in Google Drive\n",
        "csv_file_path = '/content/drive/My Drive/Internet of Things Security/dataset1.csv'\n",
        "\n",
        "# Reading the CSV file\n",
        "data = pd.read_csv(csv_file_path)\n",
        "print(data.head())"
      ],
      "metadata": {
        "colab": {
          "base_uri": "https://localhost:8080/"
        },
        "id": "L7Ob7FEA8DX_",
        "outputId": "7287460f-9d29-40f5-b2e1-3d1cadee3880"
      },
      "execution_count": null,
      "outputs": [
        {
          "output_type": "stream",
          "name": "stdout",
          "text": [
            "   Interval 1 (sec)  Interval 2 (sec)  Interval 3 (sec)\n",
            "0          0.424264          0.424264          0.948683\n",
            "1          0.300000          0.948683          0.424264\n",
            "2          0.424264          0.600000          0.424264\n",
            "3          0.848528          0.600000          0.670820\n",
            "4          0.424264          0.300000          0.600000\n"
          ]
        }
      ]
    },
    {
      "cell_type": "markdown",
      "source": [
        "#All possible combinations for each interval"
      ],
      "metadata": {
        "id": "9A5u5_mBiLwa"
      }
    },
    {
      "cell_type": "code",
      "source": [
        "import itertools\n",
        "\n",
        "\n",
        "def find_possible_combinations_with_interval(intervals, keypad_layout, key_spacing_cm, speed_cm_per_sec, tolerance=0.01):\n",
        "    possible_combinations_with_interval = []\n",
        "\n",
        "    for interval_set in intervals:\n",
        "        combinations_for_interval = []\n",
        "        all_keys = keypad_layout.keys()\n",
        "\n",
        "        # Iterate over all 4-key combinations\n",
        "        for combination in itertools.product(all_keys, repeat=4):\n",
        "            # Calculate realistic time intervals between key presses\n",
        "            time_intervals = [\n",
        "                calculate_realistic_distance(combination[i], combination[i+1], keypad_layout, key_spacing_cm, speed_cm_per_sec, min_press_time_sec)\n",
        "                for i in range(len(combination) - 1)\n",
        "            ]\n",
        "\n",
        "            # Check if the time intervals match the intervals within the tolerance\n",
        "            if all(abs(time - interval) <= tolerance for time, interval in zip(time_intervals, interval_set)):\n",
        "                combinations_for_interval.append(combination)\n",
        "\n",
        "        if combinations_for_interval:\n",
        "            # Round the interval values for display purposes\n",
        "            rounded_interval_set = [round(interval, 3) for interval in interval_set]\n",
        "            possible_combinations_with_interval.append((rounded_interval_set, combinations_for_interval))\n",
        "\n",
        "    return possible_combinations_with_interval\n",
        "\n",
        "\n",
        "def read_intervals_from_csv(file_path, num_rows):\n",
        "    intervals = []\n",
        "    with open(file_path, mode='r') as file:\n",
        "        csv_reader = csv.reader(file)\n",
        "        next(csv_reader)  # Skip the header row\n",
        "        for i, row in enumerate(csv_reader):\n",
        "            if i >= num_rows:\n",
        "                break\n",
        "            intervals.append([float(interval) for interval in row])\n",
        "    return intervals\n",
        "\n",
        "# Path to the CSV file containing the intervals\n",
        "csv_file_path = '/content/drive/My Drive/Internet of Things Security/dataset1.csv'\n",
        "\n",
        "# User input for the number of passwords to process\n",
        "num_passwords_to_process = int(input(\"Enter the number of passwords to process: \"))\n",
        "\n",
        "# Read intervals from the CSV file\n",
        "placeholder_intervals = read_intervals_from_csv(csv_file_path, num_passwords_to_process)\n",
        "\n",
        "\n",
        "\n",
        "# Find possible combinations for each set of intervals from the dataset\n",
        "possible_passwords_with_intervals = find_possible_combinations_with_interval(placeholder_intervals, keypad_layout, key_spacing_cm, speed_cm_per_sec, tolerance=0.01)\n",
        "\n",
        "# Display the results\n",
        "for interval, passwords in possible_passwords_with_intervals[:num_passwords_to_process]:\n",
        "    print(f\"Interval: {interval}, Possible Passwords: {passwords[:]}\")\n",
        "\n"
      ],
      "metadata": {
        "colab": {
          "base_uri": "https://localhost:8080/"
        },
        "id": "U3Z-rjOsT_sn",
        "outputId": "115f782f-0f35-4f40-d2b9-0759556bc16c"
      },
      "execution_count": null,
      "outputs": [
        {
          "output_type": "stream",
          "name": "stdout",
          "text": [
            "Enter the number of passwords to process: 10\n",
            "Interval: [0.424, 0.424, 0.949], Possible Passwords: [('1', '5', '1', '0'), ('1', '5', '3', '0'), ('3', '5', '1', '0'), ('3', '5', '3', '0'), ('5', '7', '0', '1'), ('5', '7', '0', '3'), ('5', '9', '0', '1'), ('5', '9', '0', '3'), ('7', '5', '1', '0'), ('7', '5', '3', '0'), ('9', '5', '1', '0'), ('9', '5', '3', '0'), ('0', '7', '0', '1'), ('0', '7', '0', '3'), ('0', '9', '0', '1'), ('0', '9', '0', '3')]\n",
            "Interval: [0.3, 0.949, 0.424], Possible Passwords: [('2', '1', '0', '7'), ('2', '1', '0', '9'), ('2', '3', '0', '7'), ('2', '3', '0', '9'), ('4', '1', '0', '7'), ('4', '1', '0', '9'), ('6', '3', '0', '7'), ('6', '3', '0', '9'), ('8', '0', '1', '5'), ('8', '0', '3', '5')]\n",
            "Interval: [0.424, 0.6, 0.424], Possible Passwords: [('1', '5', '0', '7'), ('1', '5', '0', '9'), ('2', '4', '6', '2'), ('2', '4', '6', '8'), ('2', '6', '4', '2'), ('2', '6', '4', '8'), ('3', '5', '0', '7'), ('3', '5', '0', '9'), ('4', '2', '8', '4'), ('4', '2', '8', '6'), ('4', '8', '2', '4'), ('4', '8', '2', '6'), ('5', '1', '3', '5'), ('5', '1', '7', '5'), ('5', '1', '7', '0'), ('5', '3', '1', '5'), ('5', '3', '9', '5'), ('5', '3', '9', '0'), ('5', '7', '1', '5'), ('5', '7', '9', '5'), ('5', '7', '9', '0'), ('5', '9', '3', '5'), ('5', '9', '7', '5'), ('5', '9', '7', '0'), ('6', '2', '8', '4'), ('6', '2', '8', '6'), ('6', '8', '2', '4'), ('6', '8', '2', '6'), ('7', '5', '0', '7'), ('7', '5', '0', '9'), ('7', '0', '5', '1'), ('7', '0', '5', '3'), ('7', '0', '5', '7'), ('7', '0', '5', '9'), ('8', '4', '6', '2'), ('8', '4', '6', '8'), ('8', '6', '4', '2'), ('8', '6', '4', '8'), ('9', '5', '0', '7'), ('9', '5', '0', '9'), ('9', '0', '5', '1'), ('9', '0', '5', '3'), ('9', '0', '5', '7'), ('9', '0', '5', '9'), ('0', '7', '1', '5'), ('0', '7', '9', '5'), ('0', '7', '9', '0'), ('0', '9', '3', '5'), ('0', '9', '7', '5'), ('0', '9', '7', '0')]\n",
            "Interval: [0.849, 0.6, 0.671], Possible Passwords: [('1', '9', '3', '4'), ('1', '9', '3', '8'), ('1', '9', '7', '2'), ('1', '9', '7', '6'), ('3', '7', '1', '6'), ('3', '7', '1', '8'), ('3', '7', '9', '2'), ('3', '7', '9', '4'), ('7', '3', '1', '6'), ('7', '3', '1', '8'), ('7', '3', '9', '2'), ('7', '3', '9', '4'), ('9', '1', '3', '4'), ('9', '1', '3', '8'), ('9', '1', '7', '2'), ('9', '1', '7', '6')]\n",
            "Interval: [0.424, 0.3, 0.6], Possible Passwords: [('1', '5', '2', '8'), ('1', '5', '4', '6'), ('1', '5', '6', '4'), ('1', '5', '8', '2'), ('2', '4', '1', '3'), ('2', '4', '1', '7'), ('2', '4', '5', '0'), ('2', '4', '7', '1'), ('2', '4', '7', '9'), ('2', '6', '3', '1'), ('2', '6', '3', '9'), ('2', '6', '5', '0'), ('2', '6', '9', '3'), ('2', '6', '9', '7'), ('3', '5', '2', '8'), ('3', '5', '4', '6'), ('3', '5', '6', '4'), ('3', '5', '8', '2'), ('4', '2', '1', '3'), ('4', '2', '1', '7'), ('4', '2', '3', '1'), ('4', '2', '3', '9'), ('4', '2', '5', '0'), ('4', '8', '5', '0'), ('4', '8', '7', '1'), ('4', '8', '7', '9'), ('4', '8', '9', '3'), ('4', '8', '9', '7'), ('4', '8', '0', '5'), ('5', '1', '2', '8'), ('5', '1', '4', '6'), ('5', '3', '2', '8'), ('5', '3', '6', '4'), ('5', '7', '4', '6'), ('5', '7', '8', '2'), ('5', '9', '6', '4'), ('5', '9', '8', '2'), ('6', '2', '1', '3'), ('6', '2', '1', '7'), ('6', '2', '3', '1'), ('6', '2', '3', '9'), ('6', '2', '5', '0'), ('6', '8', '5', '0'), ('6', '8', '7', '1'), ('6', '8', '7', '9'), ('6', '8', '9', '3'), ('6', '8', '9', '7'), ('6', '8', '0', '5'), ('7', '5', '2', '8'), ('7', '5', '4', '6'), ('7', '5', '6', '4'), ('7', '5', '8', '2'), ('7', '0', '8', '2'), ('8', '4', '1', '3'), ('8', '4', '1', '7'), ('8', '4', '5', '0'), ('8', '4', '7', '1'), ('8', '4', '7', '9'), ('8', '6', '3', '1'), ('8', '6', '3', '9'), ('8', '6', '5', '0'), ('8', '6', '9', '3'), ('8', '6', '9', '7'), ('9', '5', '2', '8'), ('9', '5', '4', '6'), ('9', '5', '6', '4'), ('9', '5', '8', '2'), ('9', '0', '8', '2'), ('0', '7', '4', '6'), ('0', '7', '8', '2'), ('0', '9', '6', '4'), ('0', '9', '8', '2')]\n",
            "Interval: [0.671, 0.3, 0.6], Possible Passwords: [('1', '6', '3', '1'), ('1', '6', '3', '9'), ('1', '6', '5', '0'), ('1', '6', '9', '3'), ('1', '6', '9', '7'), ('1', '8', '5', '0'), ('1', '8', '7', '1'), ('1', '8', '7', '9'), ('1', '8', '9', '3'), ('1', '8', '9', '7'), ('1', '8', '0', '5'), ('2', '7', '4', '6'), ('2', '7', '8', '2'), ('2', '9', '6', '4'), ('2', '9', '8', '2'), ('3', '4', '1', '3'), ('3', '4', '1', '7'), ('3', '4', '5', '0'), ('3', '4', '7', '1'), ('3', '4', '7', '9'), ('3', '8', '5', '0'), ('3', '8', '7', '1'), ('3', '8', '7', '9'), ('3', '8', '9', '3'), ('3', '8', '9', '7'), ('3', '8', '0', '5'), ('4', '3', '2', '8'), ('4', '3', '6', '4'), ('4', '9', '6', '4'), ('4', '9', '8', '2'), ('4', '0', '8', '2'), ('6', '1', '2', '8'), ('6', '1', '4', '6'), ('6', '7', '4', '6'), ('6', '7', '8', '2'), ('6', '0', '8', '2'), ('7', '2', '1', '3'), ('7', '2', '1', '7'), ('7', '2', '3', '1'), ('7', '2', '3', '9'), ('7', '2', '5', '0'), ('7', '6', '3', '1'), ('7', '6', '3', '9'), ('7', '6', '5', '0'), ('7', '6', '9', '3'), ('7', '6', '9', '7'), ('8', '1', '2', '8'), ('8', '1', '4', '6'), ('8', '3', '2', '8'), ('8', '3', '6', '4'), ('9', '2', '1', '3'), ('9', '2', '1', '7'), ('9', '2', '3', '1'), ('9', '2', '3', '9'), ('9', '2', '5', '0'), ('9', '4', '1', '3'), ('9', '4', '1', '7'), ('9', '4', '5', '0'), ('9', '4', '7', '1'), ('9', '4', '7', '9'), ('0', '4', '1', '3'), ('0', '4', '1', '7'), ('0', '4', '5', '0'), ('0', '4', '7', '1'), ('0', '4', '7', '9'), ('0', '6', '3', '1'), ('0', '6', '3', '9'), ('0', '6', '5', '0'), ('0', '6', '9', '3'), ('0', '6', '9', '7')]\n",
            "Interval: [0.849, 0.671, 0.3], Possible Passwords: [('1', '9', '2', '1'), ('1', '9', '2', '3'), ('1', '9', '2', '5'), ('1', '9', '4', '1'), ('1', '9', '4', '5'), ('1', '9', '4', '7'), ('3', '7', '2', '1'), ('3', '7', '2', '3'), ('3', '7', '2', '5'), ('3', '7', '6', '3'), ('3', '7', '6', '5'), ('3', '7', '6', '9'), ('7', '3', '4', '1'), ('7', '3', '4', '5'), ('7', '3', '4', '7'), ('7', '3', '8', '5'), ('7', '3', '8', '7'), ('7', '3', '8', '9'), ('7', '3', '8', '0'), ('9', '1', '6', '3'), ('9', '1', '6', '5'), ('9', '1', '6', '9'), ('9', '1', '8', '5'), ('9', '1', '8', '7'), ('9', '1', '8', '9'), ('9', '1', '8', '0')]\n",
            "Interval: [0.671, 0.671, 0.671], Possible Passwords: [('1', '6', '1', '6'), ('1', '6', '1', '8'), ('1', '6', '7', '2'), ('1', '6', '7', '6'), ('1', '6', '0', '4'), ('1', '6', '0', '6'), ('1', '8', '1', '6'), ('1', '8', '1', '8'), ('1', '8', '3', '4'), ('1', '8', '3', '8'), ('2', '7', '2', '7'), ('2', '7', '2', '9'), ('2', '7', '6', '1'), ('2', '7', '6', '7'), ('2', '7', '6', '0'), ('2', '9', '2', '7'), ('2', '9', '2', '9'), ('2', '9', '4', '3'), ('2', '9', '4', '9'), ('2', '9', '4', '0'), ('3', '4', '3', '4'), ('3', '4', '3', '8'), ('3', '4', '9', '2'), ('3', '4', '9', '4'), ('3', '4', '0', '4'), ('3', '4', '0', '6'), ('3', '8', '1', '6'), ('3', '8', '1', '8'), ('3', '8', '3', '4'), ('3', '8', '3', '8'), ('4', '3', '4', '3'), ('4', '3', '4', '9'), ('4', '3', '4', '0'), ('4', '3', '8', '1'), ('4', '3', '8', '3'), ('4', '9', '2', '7'), ('4', '9', '2', '9'), ('4', '9', '4', '3'), ('4', '9', '4', '9'), ('4', '9', '4', '0'), ('4', '0', '4', '3'), ('4', '0', '4', '9'), ('4', '0', '4', '0'), ('4', '0', '6', '1'), ('4', '0', '6', '7'), ('4', '0', '6', '0'), ('6', '1', '6', '1'), ('6', '1', '6', '7'), ('6', '1', '6', '0'), ('6', '1', '8', '1'), ('6', '1', '8', '3'), ('6', '7', '2', '7'), ('6', '7', '2', '9'), ('6', '7', '6', '1'), ('6', '7', '6', '7'), ('6', '7', '6', '0'), ('6', '0', '4', '3'), ('6', '0', '4', '9'), ('6', '0', '4', '0'), ('6', '0', '6', '1'), ('6', '0', '6', '7'), ('6', '0', '6', '0'), ('7', '2', '7', '2'), ('7', '2', '7', '6'), ('7', '2', '9', '2'), ('7', '2', '9', '4'), ('7', '6', '1', '6'), ('7', '6', '1', '8'), ('7', '6', '7', '2'), ('7', '6', '7', '6'), ('7', '6', '0', '4'), ('7', '6', '0', '6'), ('8', '1', '6', '1'), ('8', '1', '6', '7'), ('8', '1', '6', '0'), ('8', '1', '8', '1'), ('8', '1', '8', '3'), ('8', '3', '4', '3'), ('8', '3', '4', '9'), ('8', '3', '4', '0'), ('8', '3', '8', '1'), ('8', '3', '8', '3'), ('9', '2', '7', '2'), ('9', '2', '7', '6'), ('9', '2', '9', '2'), ('9', '2', '9', '4'), ('9', '4', '3', '4'), ('9', '4', '3', '8'), ('9', '4', '9', '2'), ('9', '4', '9', '4'), ('9', '4', '0', '4'), ('9', '4', '0', '6'), ('0', '4', '3', '4'), ('0', '4', '3', '8'), ('0', '4', '9', '2'), ('0', '4', '9', '4'), ('0', '4', '0', '4'), ('0', '4', '0', '6'), ('0', '6', '1', '6'), ('0', '6', '1', '8'), ('0', '6', '7', '2'), ('0', '6', '7', '6'), ('0', '6', '0', '4'), ('0', '6', '0', '6')]\n",
            "Interval: [0.6, 0.424, 0.671], Possible Passwords: [('1', '7', '0', '4'), ('1', '7', '0', '6'), ('2', '8', '4', '3'), ('2', '8', '4', '9'), ('2', '8', '4', '0'), ('2', '8', '6', '1'), ('2', '8', '6', '7'), ('2', '8', '6', '0'), ('3', '9', '0', '4'), ('3', '9', '0', '6'), ('4', '6', '2', '7'), ('4', '6', '2', '9'), ('4', '6', '8', '1'), ('4', '6', '8', '3'), ('5', '0', '7', '2'), ('5', '0', '7', '6'), ('5', '0', '9', '2'), ('5', '0', '9', '4'), ('6', '4', '2', '7'), ('6', '4', '2', '9'), ('6', '4', '8', '1'), ('6', '4', '8', '3'), ('7', '9', '0', '4'), ('7', '9', '0', '6'), ('8', '2', '4', '3'), ('8', '2', '4', '9'), ('8', '2', '4', '0'), ('8', '2', '6', '1'), ('8', '2', '6', '7'), ('8', '2', '6', '0'), ('9', '7', '0', '4'), ('9', '7', '0', '6'), ('0', '5', '1', '6'), ('0', '5', '1', '8'), ('0', '5', '3', '4'), ('0', '5', '3', '8'), ('0', '5', '7', '2'), ('0', '5', '7', '6'), ('0', '5', '9', '2'), ('0', '5', '9', '4')]\n",
            "Interval: [0.671, 0.6, 0.949], Possible Passwords: [('2', '7', '1', '0'), ('2', '9', '3', '0'), ('4', '3', '1', '0'), ('4', '9', '3', '0'), ('6', '1', '3', '0'), ('6', '7', '1', '0'), ('8', '1', '3', '0'), ('8', '3', '1', '0')]\n"
          ]
        }
      ]
    },
    {
      "cell_type": "markdown",
      "source": [
        "#Export output to csv\n"
      ],
      "metadata": {
        "id": "KYu9yfHKiVDR"
      }
    },
    {
      "cell_type": "code",
      "source": [
        "import csv\n",
        "\n",
        "# Function definitions (calculate_realistic_distance, find_possible_combinations_with_interval, etc.) remain the same\n",
        "\n",
        "def write_output_to_csv(data, file_path):\n",
        "    # Determine the maximum number of passwords for any interval\n",
        "    max_passwords = max(len(passwords) for _, passwords in data)\n",
        "\n",
        "    # Prepare the header with dynamic columns for possible passwords\n",
        "    header = ['Interval 1 (sec)', 'Interval 2 (sec)', 'Interval 3 (sec)'] + [f'ppwd{i+1}' for i in range(max_passwords)]\n",
        "\n",
        "    with open(file_path, mode='w', newline='') as file:\n",
        "        csv_writer = csv.writer(file)\n",
        "        csv_writer.writerow(header)\n",
        "\n",
        "        for interval, passwords in data:\n",
        "            # Format each password as a string, preserving leading zeros\n",
        "            passwords_str = [''.join('{:01d}'.format(int(key)) for key in password) for password in passwords]\n",
        "            # Pad the list of passwords to match the length of the header\n",
        "            row = [*interval] + passwords_str + [''] * (max_passwords - len(passwords_str))\n",
        "            csv_writer.writerow(row)\n",
        "\n",
        "# Specify the path for the output CSV file\n",
        "output_csv_file_path = '/content/drive/My Drive/Internet of Things Security/output_file.csv'\n",
        "\n",
        "\n",
        "# Find possible combinations for each set of intervals from the dataset\n",
        "possible_passwords_with_intervals = find_possible_combinations_with_interval(\n",
        "    placeholder_intervals,\n",
        "    keypad_layout,\n",
        "    key_spacing_cm,\n",
        "    speed_cm_per_sec,\n",
        "    tolerance=0.01  # Adjust the tolerance as needed\n",
        ")\n",
        "\n",
        "# Write the output to the CSV file\n",
        "write_output_to_csv(possible_passwords_with_intervals, output_csv_file_path)\n"
      ],
      "metadata": {
        "id": "TtZMoK9bZqh_"
      },
      "execution_count": null,
      "outputs": []
    },
    {
      "cell_type": "markdown",
      "source": [
        "#Check for duplicates in csv"
      ],
      "metadata": {
        "id": "H9eXsQwgidCD"
      }
    },
    {
      "cell_type": "code",
      "source": [
        "def check_for_duplicates(data):\n",
        "    for interval, passwords in data:\n",
        "        if len(passwords) != len(set(passwords)):\n",
        "            return True  # Found duplicates\n",
        "    return False  # No duplicates found\n",
        "\n",
        "# Assuming possible_passwords_with_intervals is already defined\n",
        "has_duplicates = check_for_duplicates(possible_passwords_with_intervals)\n",
        "print(\"Duplicates found:\", has_duplicates)\n"
      ],
      "metadata": {
        "colab": {
          "base_uri": "https://localhost:8080/"
        },
        "id": "BfIA2txXK0tW",
        "outputId": "d0a30888-6088-40ee-8da1-faf096541974"
      },
      "execution_count": null,
      "outputs": [
        {
          "output_type": "stream",
          "name": "stdout",
          "text": [
            "Duplicates found: False\n"
          ]
        }
      ]
    },
    {
      "cell_type": "code",
      "source": [],
      "metadata": {
        "id": "ZeZVcO4TQYPO"
      },
      "execution_count": null,
      "outputs": []
    }
  ]
}